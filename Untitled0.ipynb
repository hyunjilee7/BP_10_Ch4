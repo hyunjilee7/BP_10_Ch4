{
  "nbformat": 4,
  "nbformat_minor": 0,
  "metadata": {
    "colab": {
      "provenance": [],
      "authorship_tag": "ABX9TyPYBPIZsAHKOyUbzuw5J8Rd",
      "include_colab_link": true
    },
    "kernelspec": {
      "name": "python3",
      "display_name": "Python 3"
    },
    "language_info": {
      "name": "python"
    }
  },
  "cells": [
    {
      "cell_type": "markdown",
      "metadata": {
        "id": "view-in-github",
        "colab_type": "text"
      },
      "source": [
        "<a href=\"https://colab.research.google.com/github/hyunjilee7/BP_10_Ch4/blob/main/Untitled0.ipynb\" target=\"_parent\"><img src=\"https://colab.research.google.com/assets/colab-badge.svg\" alt=\"Open In Colab\"/></a>"
      ]
    },
    {
      "cell_type": "code",
      "execution_count": 2,
      "metadata": {
        "colab": {
          "base_uri": "https://localhost:8080/"
        },
        "id": "6pXjOuim2hh5",
        "outputId": "103b2d51-8d2e-44e3-eb58-5a6d51701b93"
      },
      "outputs": [
        {
          "output_type": "stream",
          "name": "stdout",
          "text": [
            "나는 12개의 사과를 먹었다.\n"
          ]
        }
      ],
      "source": [
        "a=12\n",
        "print(\"나는 \"+str(a)+\"개의 사과를 먹었다.\")"
      ]
    },
    {
      "cell_type": "code",
      "source": [
        "print(\"apple\"+\"grape\")\n",
        "print(\"apple\"*3)"
      ],
      "metadata": {
        "colab": {
          "base_uri": "https://localhost:8080/"
        },
        "id": "bm8urhz55Suc",
        "outputId": "eda0b027-68e6-4021-8a04-05a2898645ac"
      },
      "execution_count": 3,
      "outputs": [
        {
          "output_type": "stream",
          "name": "stdout",
          "text": [
            "applegrape\n",
            "appleappleapple\n"
          ]
        }
      ]
    },
    {
      "cell_type": "code",
      "source": [
        "s=input(\"문자열을 입력하시오 : \")\n",
        "print(s[0:2]+s[-2:])"
      ],
      "metadata": {
        "colab": {
          "base_uri": "https://localhost:8080/"
        },
        "id": "d8wH100N58i-",
        "outputId": "6b92ce8a-c3fc-4543-8a52-402ad31803b4"
      },
      "execution_count": 5,
      "outputs": [
        {
          "output_type": "stream",
          "name": "stdout",
          "text": [
            "문자열을 입력하시오 : python\n",
            "pyon\n"
          ]
        }
      ]
    },
    {
      "cell_type": "code",
      "source": [
        "t=input(\"문자열을 입력하시오 : \")\n",
        "print(t+\"하는 중\")"
      ],
      "metadata": {
        "colab": {
          "base_uri": "https://localhost:8080/"
        },
        "id": "2W4Sc868ki6m",
        "outputId": "8e6b2355-2199-4c05-c75c-8439505f4595"
      },
      "execution_count": 7,
      "outputs": [
        {
          "output_type": "stream",
          "name": "stdout",
          "text": [
            "문자열을 입력하시오 : 청소\n",
            "청소하는 중\n"
          ]
        }
      ]
    },
    {
      "cell_type": "code",
      "source": [
        "s=input(\"기호를 입력하시오 : \")\n",
        "t=input(\"중간에 삽입할 문자열을 입력하시오 : \")\n",
        "print(s[0:1]+t+s[1:])"
      ],
      "metadata": {
        "colab": {
          "base_uri": "https://localhost:8080/"
        },
        "id": "Nl9tOkOWlB25",
        "outputId": "3bfa5aa6-f91c-4269-8bc3-80bae536f109"
      },
      "execution_count": 8,
      "outputs": [
        {
          "output_type": "stream",
          "name": "stdout",
          "text": [
            "기호를 입력하시오 : {}\n",
            "중간에 삽입할 문자열을 입력하시오 : python\n",
            "{python}\n"
          ]
        }
      ]
    }
  ]
}